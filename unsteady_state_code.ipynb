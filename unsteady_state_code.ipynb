{
 "cells": [
  {
   "cell_type": "markdown",
   "id": "544726ac",
   "metadata": {},
   "source": [
    "## solving unsteady-state flow problem using python programming language "
   ]
  },
  {
   "cell_type": "markdown",
   "id": "714f80f1",
   "metadata": {},
   "source": [
    "#### Problem Description"
   ]
  },
  {
   "cell_type": "markdown",
   "id": "fb38499b",
   "metadata": {},
   "source": [
    "The objective is to use python programming language to carry out a basic transient (unsteady state) analysis. Under the steady-state flowing condition, the same quantity of fluid enters the flow system as leaves it. In unsteady-state flow condition, the flow rate into an element of volume of a porous media may not be the same as the flow rate out of that element. In this work, radial flow of slightly compressible fluid is considered narrowing it down to constant terminal rate solution.\n",
    "The constant-terminal-rate solution is an integral part of most transient test analysis techniques, such as with drawdown and pressure buildup analyses. Most of these tests involve producing the well at a constant flow rate and recording the flowing pressure as a function of time, i.e., p(rw,t). There are two commonly used forms of the constant-terminal-rate solution:  \n",
    "     (1) The Ei-function solution \n",
    "     (2) The dimensionless pressure pD solution.\n",
    "Note: this work utilizes the Ei-function solution.\n"
   ]
  },
  {
   "cell_type": "markdown",
   "id": "1d7f8ce7",
   "metadata": {},
   "source": [
    "#### Sample Problem"
   ]
  },
  {
   "cell_type": "markdown",
   "id": "84012f38",
   "metadata": {},
   "source": [
    "An oil well is producing at a constant flow rate of 300 STB/day under unsteady-state flow conditions. The reservoir has the following rock and fluid properties: \n",
    "Bo = 1.25 bbl/STB\n",
    "Ko = 60 md\n",
    "Porosity = 15%\n",
    "Viscosity = 1.5 cp\n",
    "h = 15ft\n",
    "rw =0.25 ft\n",
    "ct = 12 * 10-6 psi-1\n",
    "pi = 4000psi\n",
    "\n",
    "1)calculate pressure at radii of 0.25, 5, 10, 50, 100, 500, 1000, 1500, 2000, and 2500 feet, for 1 hour\n",
    "\n",
    "2)Repeat part 1 for t = 12 hours and 24 hours.\n"
   ]
  },
  {
   "cell_type": "markdown",
   "id": "ee504df0",
   "metadata": {},
   "source": [
    "## Formulars used for the program"
   ]
  },
  {
   "cell_type": "markdown",
   "id": "bafe0e6e",
   "metadata": {},
   "source": [
    "x = -(948*Φ*μ*ct*(r**2))/(k*t)\n",
    "E = np.log(1.781*x)\n",
    "p = 4000 + 44.125 * E\n",
    "\n",
    "where:\n",
    "    pi = 4000psi\n",
    "    x = argument\n",
    "    E = exponential integral\n",
    "when: \n",
    "    x < 0.1, E = np.log(1.781*x)\n",
    "    0.1<= x <= 10, E is obtained from the table\n",
    "    x > 10 , E == 0\n",
    "    \n",
    "        \n",
    "    \n"
   ]
  },
  {
   "cell_type": "markdown",
   "id": "bf26eab8",
   "metadata": {},
   "source": [
    "### importing important python libraies"
   ]
  },
  {
   "cell_type": "code",
   "execution_count": 1,
   "id": "ae9b2ad7",
   "metadata": {},
   "outputs": [],
   "source": [
    "#import requests\n",
    "import numpy as np\n",
    "import pandas as pd\n",
    "import csv\n",
    "import math as m"
   ]
  },
  {
   "cell_type": "markdown",
   "id": "ee246f5d",
   "metadata": {},
   "source": [
    "### defining variables and parameters"
   ]
  },
  {
   "cell_type": "code",
   "execution_count": 2,
   "id": "3217ab32",
   "metadata": {},
   "outputs": [],
   "source": [
    "Φ = 0.15\n",
    "μ = 1.5\n",
    "ct = 12*10**(-6)\n",
    "k = 60\n",
    "\n",
    "\n",
    "table = {\"x\" :[0.1,0.2,0.3,0.4,0.5,0.6,0.7,0.8,0.9,1.0,1.1,1.2,1.3,1.4,1.5,1.6,1.7,1.8,1.9,2.0,2.1,2.2,2.3,2.4,2.5,2.6,2.7,2.8,2.9,\n",
    "               3.0,3.1,3.2,3.3,3.4,3.5,3.6,3.7,3.8,3.9,4.0,4.1,4.2,4.3,4.4,4.5,4.6,4.7,4.8,4.9,5.0,5.1,5.2,5.3,5.4,5.5,5.6,5.7,5.8,\n",
    "               5.9,6.0,6.1,6.2,6.3,6.4,6.5,6.6,6.7,6.8,6.9,7.0,7.1,7.2,7.3,7.4,7.5,7.6,7.7,7.8,7.9,8.0,8.1,8.2,8.3,8.4,8.5,8.6,\n",
    "               8.7,8.8,8.9,9.0,9.1,9.2,9.3,9.4,9.5,9.6,9.7,9.8,9.9,10.0],\n",
    "         \"E(x)\":  [-1.82292,-1.22265,-0.90568,-0.70238,-0.55977,-0.45438,-0.37377,-0.31060,-0.26018,-0.21938,-0.18599,-0.15841,-0.13545,\n",
    "                -0.11622,-0.10002,-0.08631,-0.07465,-0.06471,-0.05620,-0.04890,-0.04261,-0.03719,-0.03250,-0.02844,-0.02491,-0.02185,-0.01918,-0.01686,-0.01482,-0.01305,-0.01149,\n",
    "                 -0.01013,-0.00894,-0.00789,-0.00697,-0.00616,-0.00545,-0.00482,-0.00427,-0.00378,-0.00335,-0.00297,-0.00263,-0.00234,-0.00207,-0.00184,-0.00164,-0.00145,\n",
    "                 -0.00129,-0.00115,-0.00102,-0.00091,-0.00081,-0.00072,-0.00064,-0.00057,-0.00051,-0.00045,-0.00040,-0.00036,-0.00032,-0.00029,\n",
    "             -0.00026,-0.00023,-0.00020,-0.00018,-0.00016,-0.00014,-0.00013,-0.00012,-0.00010,-0.00009,-0.00008,-0.00007,-0.00007,-0.00006,-0.00005,\n",
    "                -0.00005,-0.00004,-0.00004,-0.00003,-0.00003,-0.00003,-0.00002,-0.00002,-0.00002,-0.00002,-0.00002,-0.00001,-0.00001,-0.00001,-0.00001,-0.00001,\n",
    "                -0.00001,-0.00001,-0.00001,-0.00001,-0.00001,-0.00000,-0.00000]}\n",
    "\n"
   ]
  },
  {
   "cell_type": "markdown",
   "id": "cff4c148",
   "metadata": {},
   "source": [
    "### creating functions to perform calculation to obtain x"
   ]
  },
  {
   "cell_type": "code",
   "execution_count": 3,
   "id": "8ce747a9",
   "metadata": {},
   "outputs": [],
   "source": [
    "def calculate_x(r, t, Φ, μ, ct, k):\n",
    "    return (948 * Φ * μ * ct * (r ** 2)) / (k * t)\n",
    "\n",
    "\n"
   ]
  },
  {
   "cell_type": "markdown",
   "id": "2aecd1a2",
   "metadata": {},
   "source": [
    "### creating functions to perform calculation to obtain E "
   ]
  },
  {
   "cell_type": "code",
   "execution_count": 4,
   "id": "42e0f24f",
   "metadata": {},
   "outputs": [],
   "source": [
    "def calculate_E(x, table):\n",
    "    if x < 0.1:\n",
    "        E = np.log(1.781 * x)\n",
    "    elif 0.1 <= x <= 10:\n",
    "        x = round(x,1)\n",
    "        if x in table['x']:\n",
    "            index = table['x'].index(x)\n",
    "            E = table['E(x)'][index]\n",
    "        else:\n",
    "            print(f\"Warning: x value {x} not in table\")\n",
    "            E = None \n",
    "    else:\n",
    "        E = 0\n",
    "    return E\n",
    "\n",
    "\n",
    "\n"
   ]
  },
  {
   "cell_type": "markdown",
   "id": "889e95ff",
   "metadata": {},
   "source": [
    "### creating functions to perform calculation to obtain p and and getting result"
   ]
  },
  {
   "cell_type": "code",
   "execution_count": 5,
   "id": "70a83aa0",
   "metadata": {
    "scrolled": true
   },
   "outputs": [
    {
     "name": "stdout",
     "output_type": "stream",
     "text": [
      "Enter the radius of the well: 0.25\n",
      "Enter time in hours: 1\n",
      "x: 2.66625e-06\n",
      "E: -12.26\n",
      "p: 3459.0 psia\n"
     ]
    }
   ],
   "source": [
    "def calculate_p(E):\n",
    "    return 4000 + 44.125 * E\n",
    "\n",
    "\n",
    "\n",
    "while True:\n",
    "    try:\n",
    "        r = float(input(\"Enter the radius of the well: \"))\n",
    "        t = int(input(\"Enter time in hours: \"))\n",
    "        break\n",
    "    except ValueError:\n",
    "        print(\"Error: Please enter valid numeric values.\")\n",
    "\n",
    "        \n",
    "x = calculate_x(r, t, Φ, μ, ct, k)\n",
    "print(\"x:\", x)\n",
    "E = round(calculate_E(x, table),2)\n",
    "print(\"E:\", E)\n",
    "\n",
    "\n",
    "if E is not None:\n",
    "    p = round(calculate_p(E),0)\n",
    "    print(f\"p: {p} psia\")\n",
    "else:\n",
    "    print(\"Error: Could not calculate p due to missing E value.\")"
   ]
  },
  {
   "cell_type": "code",
   "execution_count": 6,
   "id": "ec9f348f",
   "metadata": {},
   "outputs": [
    {
     "name": "stdout",
     "output_type": "stream",
     "text": [
      "Enter the radius of the well: 5\n",
      "Enter time in hours: 1\n",
      "x: 0.0010665000000000002\n",
      "E: -6.27\n",
      "p: 3723.0 psia\n"
     ]
    }
   ],
   "source": [
    "def calculate_p(E):\n",
    "    return 4000 + 44.125 * E\n",
    "\n",
    "\n",
    "\n",
    "while True:\n",
    "    try:\n",
    "        r = float(input(\"Enter the radius of the well: \"))\n",
    "        t = int(input(\"Enter time in hours: \"))\n",
    "        break\n",
    "    except ValueError:\n",
    "        print(\"Error: Please enter valid numeric values.\")\n",
    "\n",
    "        \n",
    "x = calculate_x(r, t, Φ, μ, ct, k)\n",
    "print(\"x:\", x)\n",
    "E = round(calculate_E(x, table),2)\n",
    "print(\"E:\", E)\n",
    "\n",
    "\n",
    "if E is not None:\n",
    "    p = round(calculate_p(E),0)\n",
    "    print(f\"p: {p} psia\")\n",
    "else:\n",
    "    print(\"Error: Could not calculate p due to missing E value.\")"
   ]
  },
  {
   "cell_type": "code",
   "execution_count": 7,
   "id": "d3de08d9",
   "metadata": {},
   "outputs": [
    {
     "name": "stdout",
     "output_type": "stream",
     "text": [
      "Enter the radius of the well: 10\n",
      "Enter time in hours: 1\n",
      "x: 0.004266000000000001\n",
      "E: -4.88\n",
      "p: 3785.0 psia\n"
     ]
    }
   ],
   "source": [
    "def calculate_p(E):\n",
    "    return 4000 + 44.125 * E\n",
    "\n",
    "\n",
    "\n",
    "while True:\n",
    "    try:\n",
    "        r = float(input(\"Enter the radius of the well: \"))\n",
    "        t = int(input(\"Enter time in hours: \"))\n",
    "        break\n",
    "    except ValueError:\n",
    "        print(\"Error: Please enter valid numeric values.\")\n",
    "\n",
    "        \n",
    "x = calculate_x(r, t, Φ, μ, ct, k)\n",
    "print(\"x:\", x)\n",
    "E = round(calculate_E(x, table),2)\n",
    "print(\"E:\", E)\n",
    "\n",
    "\n",
    "if E is not None:\n",
    "    p = round(calculate_p(E),0)\n",
    "    print(f\"p: {p} psia\")\n",
    "else:\n",
    "    print(\"Error: Could not calculate p due to missing E value.\")"
   ]
  },
  {
   "cell_type": "code",
   "execution_count": 8,
   "id": "20e84e05",
   "metadata": {},
   "outputs": [
    {
     "name": "stdout",
     "output_type": "stream",
     "text": [
      "Enter the radius of the well: 50\n",
      "Enter time in hours: 1\n",
      "x: 0.10665\n",
      "E: -1.82\n",
      "p: 3920.0 psia\n"
     ]
    }
   ],
   "source": [
    "def calculate_p(E):\n",
    "    return 4000 + 44.125 * E\n",
    "\n",
    "\n",
    "\n",
    "while True:\n",
    "    try:\n",
    "        r = float(input(\"Enter the radius of the well: \"))\n",
    "        t = int(input(\"Enter time in hours: \"))\n",
    "        break\n",
    "    except ValueError:\n",
    "        print(\"Error: Please enter valid numeric values.\")\n",
    "\n",
    "        \n",
    "x = calculate_x(r, t, Φ, μ, ct, k)\n",
    "print(\"x:\", x)\n",
    "E = round(calculate_E(x, table),2)\n",
    "print(\"E:\", E)\n",
    "\n",
    "\n",
    "if E is not None:\n",
    "    p = round(calculate_p(E),0)\n",
    "    print(f\"p: {p} psia\")\n",
    "else:\n",
    "    print(\"Error: Could not calculate p due to missing E value.\")"
   ]
  },
  {
   "cell_type": "code",
   "execution_count": 9,
   "id": "58646322",
   "metadata": {},
   "outputs": [
    {
     "name": "stdout",
     "output_type": "stream",
     "text": [
      "Enter the radius of the well: 100\n",
      "Enter time in hours: 1\n",
      "x: 0.4266\n",
      "E: -0.7\n",
      "p: 3969.0 psia\n"
     ]
    }
   ],
   "source": [
    "def calculate_p(E):\n",
    "    return 4000 + 44.125 * E\n",
    "\n",
    "\n",
    "\n",
    "while True:\n",
    "    try:\n",
    "        r = float(input(\"Enter the radius of the well: \"))\n",
    "        t = int(input(\"Enter time in hours: \"))\n",
    "        break\n",
    "    except ValueError:\n",
    "        print(\"Error: Please enter valid numeric values.\")\n",
    "\n",
    "        \n",
    "x = calculate_x(r, t, Φ, μ, ct, k)\n",
    "print(\"x:\", x)\n",
    "E = round(calculate_E(x, table),2)\n",
    "print(\"E:\", E)\n",
    "\n",
    "\n",
    "if E is not None:\n",
    "    p = round(calculate_p(E),0)\n",
    "    print(f\"p: {p} psia\")\n",
    "else:\n",
    "    print(\"Error: Could not calculate p due to missing E value.\")"
   ]
  },
  {
   "cell_type": "code",
   "execution_count": 10,
   "id": "6779f892",
   "metadata": {},
   "outputs": [
    {
     "name": "stdout",
     "output_type": "stream",
     "text": [
      "Enter the radius of the well: 500\n",
      "Enter time in hours: 1\n",
      "x: 10.665\n",
      "E: 0\n",
      "p: 4000.0 psia\n"
     ]
    }
   ],
   "source": [
    "def calculate_p(E):\n",
    "    return 4000 + 44.125 * E\n",
    "\n",
    "\n",
    "\n",
    "while True:\n",
    "    try:\n",
    "        r = float(input(\"Enter the radius of the well: \"))\n",
    "        t = int(input(\"Enter time in hours: \"))\n",
    "        break\n",
    "    except ValueError:\n",
    "        print(\"Error: Please enter valid numeric values.\")\n",
    "\n",
    "        \n",
    "x = calculate_x(r, t, Φ, μ, ct, k)\n",
    "print(\"x:\", x)\n",
    "E = round(calculate_E(x, table),2)\n",
    "print(\"E:\", E)\n",
    "\n",
    "\n",
    "if E is not None:\n",
    "    p = round(calculate_p(E),0)\n",
    "    print(f\"p: {p} psia\")\n",
    "else:\n",
    "    print(\"Error: Could not calculate p due to missing E value.\")"
   ]
  },
  {
   "cell_type": "code",
   "execution_count": 11,
   "id": "6d73a6ea",
   "metadata": {},
   "outputs": [
    {
     "name": "stdout",
     "output_type": "stream",
     "text": [
      "Enter the radius of the well: 1000\n",
      "Enter time in hours: 1\n",
      "x: 42.66\n",
      "E: 0\n",
      "p: 4000.0 psia\n"
     ]
    }
   ],
   "source": [
    "def calculate_p(E):\n",
    "    return 4000 + 44.125 * E\n",
    "\n",
    "\n",
    "\n",
    "while True:\n",
    "    try:\n",
    "        r = float(input(\"Enter the radius of the well: \"))\n",
    "        t = int(input(\"Enter time in hours: \"))\n",
    "        break\n",
    "    except ValueError:\n",
    "        print(\"Error: Please enter valid numeric values.\")\n",
    "\n",
    "        \n",
    "x = calculate_x(r, t, Φ, μ, ct, k)\n",
    "print(\"x:\", x)\n",
    "E = round(calculate_E(x, table),2)\n",
    "print(\"E:\", E)\n",
    "\n",
    "\n",
    "if E is not None:\n",
    "    p = round(calculate_p(E),0)\n",
    "    print(f\"p: {p} psia\")\n",
    "else:\n",
    "    print(\"Error: Could not calculate p due to missing E value.\")"
   ]
  },
  {
   "cell_type": "code",
   "execution_count": 12,
   "id": "609906ba",
   "metadata": {},
   "outputs": [
    {
     "name": "stdout",
     "output_type": "stream",
     "text": [
      "Enter the radius of the well: 1500\n",
      "Enter time in hours: 1\n",
      "x: 95.985\n",
      "E: 0\n",
      "p: 4000.0 psia\n"
     ]
    }
   ],
   "source": [
    "def calculate_p(E):\n",
    "    return 4000 + 44.125 * E\n",
    "\n",
    "\n",
    "\n",
    "while True:\n",
    "    try:\n",
    "        r = float(input(\"Enter the radius of the well: \"))\n",
    "        t = int(input(\"Enter time in hours: \"))\n",
    "        break\n",
    "    except ValueError:\n",
    "        print(\"Error: Please enter valid numeric values.\")\n",
    "\n",
    "        \n",
    "x = calculate_x(r, t, Φ, μ, ct, k)\n",
    "print(\"x:\", x)\n",
    "E = round(calculate_E(x, table),2)\n",
    "print(\"E:\", E)\n",
    "\n",
    "\n",
    "if E is not None:\n",
    "    p = round(calculate_p(E),0)\n",
    "    print(f\"p: {p} psia\")\n",
    "else:\n",
    "    print(\"Error: Could not calculate p due to missing E value.\")"
   ]
  },
  {
   "cell_type": "code",
   "execution_count": 13,
   "id": "3d92ad06",
   "metadata": {},
   "outputs": [
    {
     "name": "stdout",
     "output_type": "stream",
     "text": [
      "Enter the radius of the well: 2000\n",
      "Enter time in hours: 2500\n",
      "x: 0.068256\n",
      "E: -2.11\n",
      "p: 3907.0 psia\n"
     ]
    }
   ],
   "source": [
    "def calculate_p(E):\n",
    "    return 4000 + 44.125 * E\n",
    "\n",
    "\n",
    "\n",
    "while True:\n",
    "    try:\n",
    "        r = float(input(\"Enter the radius of the well: \"))\n",
    "        t = int(input(\"Enter time in hours: \"))\n",
    "        break\n",
    "    except ValueError:\n",
    "        print(\"Error: Please enter valid numeric values.\")\n",
    "\n",
    "        \n",
    "x = calculate_x(r, t, Φ, μ, ct, k)\n",
    "print(\"x:\", x)\n",
    "E = round(calculate_E(x, table),2)\n",
    "print(\"E:\", E)\n",
    "\n",
    "\n",
    "if E is not None:\n",
    "    p = round(calculate_p(E),0)\n",
    "    print(f\"p: {p} psia\")\n",
    "else:\n",
    "    print(\"Error: Could not calculate p due to missing E value.\")"
   ]
  },
  {
   "cell_type": "code",
   "execution_count": 14,
   "id": "54fdf457",
   "metadata": {},
   "outputs": [
    {
     "name": "stdout",
     "output_type": "stream",
     "text": [
      "Enter the radius of the well: 0.25\n",
      "Enter time in hours: 12\n",
      "x: 2.221875e-07\n",
      "E: -14.74\n",
      "p: 3350.0 psia\n"
     ]
    }
   ],
   "source": [
    "def calculate_p(E):\n",
    "    return 4000 + 44.125 * E\n",
    "\n",
    "\n",
    "\n",
    "while True:\n",
    "    try:\n",
    "        r = float(input(\"Enter the radius of the well: \"))\n",
    "        t = int(input(\"Enter time in hours: \"))\n",
    "        break\n",
    "    except ValueError:\n",
    "        print(\"Error: Please enter valid numeric values.\")\n",
    "\n",
    "        \n",
    "x = calculate_x(r, t, Φ, μ, ct, k)\n",
    "print(\"x:\", x)\n",
    "E = round(calculate_E(x, table),2)\n",
    "print(\"E:\", E)\n",
    "\n",
    "\n",
    "if E is not None:\n",
    "    p = round(calculate_p(E),0)\n",
    "    print(f\"p: {p} psia\")\n",
    "else:\n",
    "    print(\"Error: Could not calculate p due to missing E value.\")"
   ]
  },
  {
   "cell_type": "code",
   "execution_count": 15,
   "id": "97e77be9",
   "metadata": {},
   "outputs": [
    {
     "name": "stdout",
     "output_type": "stream",
     "text": [
      "Enter the radius of the well: 5\n",
      "Enter time in hours: 12\n",
      "x: 8.8875e-05\n",
      "E: -8.75\n",
      "p: 3614.0 psia\n"
     ]
    }
   ],
   "source": [
    "def calculate_p(E):\n",
    "    return 4000 + 44.125 * E\n",
    "\n",
    "\n",
    "\n",
    "while True:\n",
    "    try:\n",
    "        r = float(input(\"Enter the radius of the well: \"))\n",
    "        t = int(input(\"Enter time in hours: \"))\n",
    "        break\n",
    "    except ValueError:\n",
    "        print(\"Error: Please enter valid numeric values.\")\n",
    "\n",
    "        \n",
    "x = calculate_x(r, t, Φ, μ, ct, k)\n",
    "print(\"x:\", x)\n",
    "E = round(calculate_E(x, table),2)\n",
    "print(\"E:\", E)\n",
    "\n",
    "\n",
    "if E is not None:\n",
    "    p = round(calculate_p(E),0)\n",
    "    print(f\"p: {p} psia\")\n",
    "else:\n",
    "    print(\"Error: Could not calculate p due to missing E value.\")"
   ]
  },
  {
   "cell_type": "code",
   "execution_count": 16,
   "id": "1288ac7f",
   "metadata": {},
   "outputs": [
    {
     "name": "stdout",
     "output_type": "stream",
     "text": [
      "Enter the radius of the well: 10\n",
      "Enter time in hours: 12\n",
      "x: 0.0003555\n",
      "E: -7.36\n",
      "p: 3675.0 psia\n"
     ]
    }
   ],
   "source": [
    "def calculate_p(E):\n",
    "    return 4000 + 44.125 * E\n",
    "\n",
    "\n",
    "\n",
    "while True:\n",
    "    try:\n",
    "        r = float(input(\"Enter the radius of the well: \"))\n",
    "        t = int(input(\"Enter time in hours: \"))\n",
    "        break\n",
    "    except ValueError:\n",
    "        print(\"Error: Please enter valid numeric values.\")\n",
    "\n",
    "        \n",
    "x = calculate_x(r, t, Φ, μ, ct, k)\n",
    "print(\"x:\", x)\n",
    "E = round(calculate_E(x, table),2)\n",
    "print(\"E:\", E)\n",
    "\n",
    "\n",
    "if E is not None:\n",
    "    p = round(calculate_p(E),0)\n",
    "    print(f\"p: {p} psia\")\n",
    "else:\n",
    "    print(\"Error: Could not calculate p due to missing E value.\")"
   ]
  },
  {
   "cell_type": "code",
   "execution_count": 19,
   "id": "d525a712",
   "metadata": {},
   "outputs": [
    {
     "name": "stdout",
     "output_type": "stream",
     "text": [
      "Enter the radius of the well: 50\n",
      "Enter time in hours: 12\n",
      "x: 0.0088875\n",
      "E: -4.15\n",
      "p: 3817.0 psia\n"
     ]
    }
   ],
   "source": [
    "def calculate_p(E):\n",
    "    return 4000 + 44.125 * E\n",
    "\n",
    "\n",
    "\n",
    "while True:\n",
    "    try:\n",
    "        r = float(input(\"Enter the radius of the well: \"))\n",
    "        t = int(input(\"Enter time in hours: \"))\n",
    "        break\n",
    "    except ValueError:\n",
    "        print(\"Error: Please enter valid numeric values.\")\n",
    "\n",
    "        \n",
    "x = calculate_x(r, t, Φ, μ, ct, k)\n",
    "print(\"x:\", x)\n",
    "E = round(calculate_E(x, table),2)\n",
    "print(\"E:\", E)\n",
    "\n",
    "\n",
    "if E is not None:\n",
    "    p = round(calculate_p(E),0)\n",
    "    print(f\"p: {p} psia\")\n",
    "else:\n",
    "    print(\"Error: Could not calculate p due to missing E value.\")"
   ]
  },
  {
   "cell_type": "code",
   "execution_count": 20,
   "id": "7634e86c",
   "metadata": {},
   "outputs": [
    {
     "name": "stdout",
     "output_type": "stream",
     "text": [
      "Enter the radius of the well: 100\n",
      "Enter time in hours: 12\n",
      "x: 0.03555\n",
      "E: -2.76\n",
      "p: 3878.0 psia\n"
     ]
    }
   ],
   "source": [
    "def calculate_p(E):\n",
    "    return 4000 + 44.125 * E\n",
    "\n",
    "\n",
    "\n",
    "while True:\n",
    "    try:\n",
    "        r = float(input(\"Enter the radius of the well: \"))\n",
    "        t = int(input(\"Enter time in hours: \"))\n",
    "        break\n",
    "    except ValueError:\n",
    "        print(\"Error: Please enter valid numeric values.\")\n",
    "\n",
    "        \n",
    "x = calculate_x(r, t, Φ, μ, ct, k)\n",
    "print(\"x:\", x)\n",
    "E = round(calculate_E(x, table),2)\n",
    "print(\"E:\", E)\n",
    "\n",
    "\n",
    "if E is not None:\n",
    "    p = round(calculate_p(E),0)\n",
    "    print(f\"p: {p} psia\")\n",
    "else:\n",
    "    print(\"Error: Could not calculate p due to missing E value.\")"
   ]
  },
  {
   "cell_type": "code",
   "execution_count": 21,
   "id": "26d7da98",
   "metadata": {},
   "outputs": [
    {
     "name": "stdout",
     "output_type": "stream",
     "text": [
      "Enter the radius of the well: 500\n",
      "Enter time in hours: 12\n",
      "x: 0.8887499999999999\n",
      "E: -0.26\n",
      "p: 3989.0 psia\n"
     ]
    }
   ],
   "source": [
    "def calculate_p(E):\n",
    "    return 4000 + 44.125 * E\n",
    "\n",
    "\n",
    "\n",
    "while True:\n",
    "    try:\n",
    "        r = float(input(\"Enter the radius of the well: \"))\n",
    "        t = int(input(\"Enter time in hours: \"))\n",
    "        break\n",
    "    except ValueError:\n",
    "        print(\"Error: Please enter valid numeric values.\")\n",
    "\n",
    "        \n",
    "x = calculate_x(r, t, Φ, μ, ct, k)\n",
    "print(\"x:\", x)\n",
    "E = round(calculate_E(x, table),2)\n",
    "print(\"E:\", E)\n",
    "\n",
    "\n",
    "if E is not None:\n",
    "    p = round(calculate_p(E),0)\n",
    "    print(f\"p: {p} psia\")\n",
    "else:\n",
    "    print(\"Error: Could not calculate p due to missing E value.\")"
   ]
  },
  {
   "cell_type": "code",
   "execution_count": 22,
   "id": "bf1a3777",
   "metadata": {},
   "outputs": [
    {
     "name": "stdout",
     "output_type": "stream",
     "text": [
      "Enter the radius of the well: 1000\n",
      "Enter time in hours: 12\n",
      "x: 3.5549999999999997\n",
      "E: -0.01\n",
      "p: 4000.0 psia\n"
     ]
    }
   ],
   "source": [
    "def calculate_p(E):\n",
    "    return 4000 + 44.125 * E\n",
    "\n",
    "\n",
    "\n",
    "while True:\n",
    "    try:\n",
    "        r = float(input(\"Enter the radius of the well: \"))\n",
    "        t = int(input(\"Enter time in hours: \"))\n",
    "        break\n",
    "    except ValueError:\n",
    "        print(\"Error: Please enter valid numeric values.\")\n",
    "\n",
    "        \n",
    "x = calculate_x(r, t, Φ, μ, ct, k)\n",
    "print(\"x:\", x)\n",
    "E = round(calculate_E(x, table),2)\n",
    "print(\"E:\", E)\n",
    "\n",
    "\n",
    "if E is not None:\n",
    "    p = round(calculate_p(E),0)\n",
    "    print(f\"p: {p} psia\")\n",
    "else:\n",
    "    print(\"Error: Could not calculate p due to missing E value.\")"
   ]
  },
  {
   "cell_type": "code",
   "execution_count": 23,
   "id": "ad826bbf",
   "metadata": {},
   "outputs": [
    {
     "name": "stdout",
     "output_type": "stream",
     "text": [
      "Enter the radius of the well: 2000\n",
      "Enter time in hours: 12\n",
      "x: 14.219999999999999\n",
      "E: 0\n",
      "p: 4000.0 psia\n"
     ]
    }
   ],
   "source": [
    "def calculate_p(E):\n",
    "    return 4000 + 44.125 * E\n",
    "\n",
    "\n",
    "\n",
    "while True:\n",
    "    try:\n",
    "        r = float(input(\"Enter the radius of the well: \"))\n",
    "        t = int(input(\"Enter time in hours: \"))\n",
    "        break\n",
    "    except ValueError:\n",
    "        print(\"Error: Please enter valid numeric values.\")\n",
    "\n",
    "        \n",
    "x = calculate_x(r, t, Φ, μ, ct, k)\n",
    "print(\"x:\", x)\n",
    "E = round(calculate_E(x, table),2)\n",
    "print(\"E:\", E)\n",
    "\n",
    "\n",
    "if E is not None:\n",
    "    p = round(calculate_p(E),0)\n",
    "    print(f\"p: {p} psia\")\n",
    "else:\n",
    "    print(\"Error: Could not calculate p due to missing E value.\")"
   ]
  },
  {
   "cell_type": "code",
   "execution_count": 24,
   "id": "86d54946",
   "metadata": {},
   "outputs": [
    {
     "name": "stdout",
     "output_type": "stream",
     "text": [
      "Enter the radius of the well: 2500\n",
      "Enter time in hours: 12\n",
      "x: 22.21875\n",
      "E: 0\n",
      "p: 4000.0 psia\n"
     ]
    }
   ],
   "source": [
    "def calculate_p(E):\n",
    "    return 4000 + 44.125 * E\n",
    "\n",
    "\n",
    "\n",
    "while True:\n",
    "    try:\n",
    "        r = float(input(\"Enter the radius of the well: \"))\n",
    "        t = int(input(\"Enter time in hours: \"))\n",
    "        break\n",
    "    except ValueError:\n",
    "        print(\"Error: Please enter valid numeric values.\")\n",
    "\n",
    "        \n",
    "x = calculate_x(r, t, Φ, μ, ct, k)\n",
    "print(\"x:\", x)\n",
    "E = round(calculate_E(x, table),2)\n",
    "print(\"E:\", E)\n",
    "\n",
    "\n",
    "if E is not None:\n",
    "    p = round(calculate_p(E),0)\n",
    "    print(f\"p: {p} psia\")\n",
    "else:\n",
    "    print(\"Error: Could not calculate p due to missing E value.\")"
   ]
  },
  {
   "cell_type": "code",
   "execution_count": 25,
   "id": "3687a8ae",
   "metadata": {},
   "outputs": [
    {
     "name": "stdout",
     "output_type": "stream",
     "text": [
      "Enter the radius of the well: 0.25\n",
      "Enter time in hours: 24\n",
      "x: 1.1109375e-07\n",
      "E: -15.44\n",
      "p: 3319.0 psia\n"
     ]
    }
   ],
   "source": [
    "def calculate_p(E):\n",
    "    return 4000 + 44.125 * E\n",
    "\n",
    "\n",
    "\n",
    "while True:\n",
    "    try:\n",
    "        r = float(input(\"Enter the radius of the well: \"))\n",
    "        t = int(input(\"Enter time in hours: \"))\n",
    "        break\n",
    "    except ValueError:\n",
    "        print(\"Error: Please enter valid numeric values.\")\n",
    "\n",
    "        \n",
    "x = calculate_x(r, t, Φ, μ, ct, k)\n",
    "print(\"x:\", x)\n",
    "E = round(calculate_E(x, table),2)\n",
    "print(\"E:\", E)\n",
    "\n",
    "\n",
    "if E is not None:\n",
    "    p = round(calculate_p(E),0)\n",
    "    print(f\"p: {p} psia\")\n",
    "else:\n",
    "    print(\"Error: Could not calculate p due to missing E value.\")"
   ]
  },
  {
   "cell_type": "code",
   "execution_count": 26,
   "id": "c8d2ccf4",
   "metadata": {},
   "outputs": [
    {
     "name": "stdout",
     "output_type": "stream",
     "text": [
      "Enter the radius of the well: 5\n",
      "Enter time in hours: 24\n",
      "x: 4.44375e-05\n",
      "E: -9.44\n",
      "p: 3583.0 psia\n"
     ]
    }
   ],
   "source": [
    "def calculate_p(E):\n",
    "    return 4000 + 44.125 * E\n",
    "\n",
    "\n",
    "\n",
    "while True:\n",
    "    try:\n",
    "        r = float(input(\"Enter the radius of the well: \"))\n",
    "        t = int(input(\"Enter time in hours: \"))\n",
    "        break\n",
    "    except ValueError:\n",
    "        print(\"Error: Please enter valid numeric values.\")\n",
    "\n",
    "        \n",
    "x = calculate_x(r, t, Φ, μ, ct, k)\n",
    "print(\"x:\", x)\n",
    "E = round(calculate_E(x, table),2)\n",
    "print(\"E:\", E)\n",
    "\n",
    "\n",
    "if E is not None:\n",
    "    p = round(calculate_p(E),0)\n",
    "    print(f\"p: {p} psia\")\n",
    "else:\n",
    "    print(\"Error: Could not calculate p due to missing E value.\")"
   ]
  },
  {
   "cell_type": "code",
   "execution_count": 27,
   "id": "d198c6e5",
   "metadata": {},
   "outputs": [
    {
     "name": "stdout",
     "output_type": "stream",
     "text": [
      "Enter the radius of the well: 10\n",
      "Enter time in hours: 24\n",
      "x: 0.00017775\n",
      "E: -8.06\n",
      "p: 3644.0 psia\n"
     ]
    }
   ],
   "source": [
    "def calculate_p(E):\n",
    "    return 4000 + 44.125 * E\n",
    "\n",
    "\n",
    "\n",
    "while True:\n",
    "    try:\n",
    "        r = float(input(\"Enter the radius of the well: \"))\n",
    "        t = int(input(\"Enter time in hours: \"))\n",
    "        break\n",
    "    except ValueError:\n",
    "        print(\"Error: Please enter valid numeric values.\")\n",
    "\n",
    "        \n",
    "x = calculate_x(r, t, Φ, μ, ct, k)\n",
    "print(\"x:\", x)\n",
    "E = round(calculate_E(x, table),2)\n",
    "print(\"E:\", E)\n",
    "\n",
    "\n",
    "if E is not None:\n",
    "    p = round(calculate_p(E),0)\n",
    "    print(f\"p: {p} psia\")\n",
    "else:\n",
    "    print(\"Error: Could not calculate p due to missing E value.\")"
   ]
  },
  {
   "cell_type": "code",
   "execution_count": 28,
   "id": "457afe43",
   "metadata": {},
   "outputs": [
    {
     "name": "stdout",
     "output_type": "stream",
     "text": [
      "Enter the radius of the well: 50\n",
      "Enter time in hours: 24\n",
      "x: 0.00444375\n",
      "E: -4.84\n",
      "p: 3786.0 psia\n"
     ]
    }
   ],
   "source": [
    "def calculate_p(E):\n",
    "    return 4000 + 44.125 * E\n",
    "\n",
    "\n",
    "\n",
    "while True:\n",
    "    try:\n",
    "        r = float(input(\"Enter the radius of the well: \"))\n",
    "        t = int(input(\"Enter time in hours: \"))\n",
    "        break\n",
    "    except ValueError:\n",
    "        print(\"Error: Please enter valid numeric values.\")\n",
    "\n",
    "        \n",
    "x = calculate_x(r, t, Φ, μ, ct, k)\n",
    "print(\"x:\", x)\n",
    "E = round(calculate_E(x, table),2)\n",
    "print(\"E:\", E)\n",
    "\n",
    "\n",
    "if E is not None:\n",
    "    p = round(calculate_p(E),0)\n",
    "    print(f\"p: {p} psia\")\n",
    "else:\n",
    "    print(\"Error: Could not calculate p due to missing E value.\")"
   ]
  },
  {
   "cell_type": "code",
   "execution_count": 29,
   "id": "7b675613",
   "metadata": {},
   "outputs": [
    {
     "name": "stdout",
     "output_type": "stream",
     "text": [
      "Enter the radius of the well: 100\n",
      "Enter time in hours: 24\n",
      "x: 0.017775\n",
      "E: -3.45\n",
      "p: 3848.0 psia\n"
     ]
    }
   ],
   "source": [
    "def calculate_p(E):\n",
    "    return 4000 + 44.125 * E\n",
    "\n",
    "\n",
    "\n",
    "while True:\n",
    "    try:\n",
    "        r = float(input(\"Enter the radius of the well: \"))\n",
    "        t = int(input(\"Enter time in hours: \"))\n",
    "        break\n",
    "    except ValueError:\n",
    "        print(\"Error: Please enter valid numeric values.\")\n",
    "\n",
    "        \n",
    "x = calculate_x(r, t, Φ, μ, ct, k)\n",
    "print(\"x:\", x)\n",
    "E = round(calculate_E(x, table),2)\n",
    "print(\"E:\", E)\n",
    "\n",
    "\n",
    "if E is not None:\n",
    "    p = round(calculate_p(E),0)\n",
    "    print(f\"p: {p} psia\")\n",
    "else:\n",
    "    print(\"Error: Could not calculate p due to missing E value.\")"
   ]
  },
  {
   "cell_type": "code",
   "execution_count": 30,
   "id": "0876e52d",
   "metadata": {},
   "outputs": [
    {
     "name": "stdout",
     "output_type": "stream",
     "text": [
      "Enter the radius of the well: 500\n",
      "Enter time in hours: 24\n",
      "x: 0.44437499999999996\n",
      "E: -0.7\n",
      "p: 3969.0 psia\n"
     ]
    }
   ],
   "source": [
    "def calculate_p(E):\n",
    "    return 4000 + 44.125 * E\n",
    "\n",
    "\n",
    "\n",
    "while True:\n",
    "    try:\n",
    "        r = float(input(\"Enter the radius of the well: \"))\n",
    "        t = int(input(\"Enter time in hours: \"))\n",
    "        break\n",
    "    except ValueError:\n",
    "        print(\"Error: Please enter valid numeric values.\")\n",
    "\n",
    "        \n",
    "x = calculate_x(r, t, Φ, μ, ct, k)\n",
    "print(\"x:\", x)\n",
    "E = round(calculate_E(x, table),2)\n",
    "print(\"E:\", E)\n",
    "\n",
    "\n",
    "if E is not None:\n",
    "    p = round(calculate_p(E),0)\n",
    "    print(f\"p: {p} psia\")\n",
    "else:\n",
    "    print(\"Error: Could not calculate p due to missing E value.\")"
   ]
  },
  {
   "cell_type": "code",
   "execution_count": 31,
   "id": "a6e85e1e",
   "metadata": {},
   "outputs": [
    {
     "name": "stdout",
     "output_type": "stream",
     "text": [
      "Enter the radius of the well: 1000\n",
      "Enter time in hours: 24\n",
      "x: 1.7774999999999999\n",
      "E: -0.06\n",
      "p: 3997.0 psia\n"
     ]
    }
   ],
   "source": [
    "def calculate_p(E):\n",
    "    return 4000 + 44.125 * E\n",
    "\n",
    "\n",
    "\n",
    "while True:\n",
    "    try:\n",
    "        r = float(input(\"Enter the radius of the well: \"))\n",
    "        t = int(input(\"Enter time in hours: \"))\n",
    "        break\n",
    "    except ValueError:\n",
    "        print(\"Error: Please enter valid numeric values.\")\n",
    "\n",
    "        \n",
    "x = calculate_x(r, t, Φ, μ, ct, k)\n",
    "print(\"x:\", x)\n",
    "E = round(calculate_E(x, table),2)\n",
    "print(\"E:\", E)\n",
    "\n",
    "\n",
    "if E is not None:\n",
    "    p = round(calculate_p(E),0)\n",
    "    print(f\"p: {p} psia\")\n",
    "else:\n",
    "    print(\"Error: Could not calculate p due to missing E value.\")"
   ]
  },
  {
   "cell_type": "code",
   "execution_count": 32,
   "id": "6ce0713b",
   "metadata": {},
   "outputs": [
    {
     "name": "stdout",
     "output_type": "stream",
     "text": [
      "Enter the radius of the well: 1500\n",
      "Enter time in hours: 24\n",
      "x: 3.999375\n",
      "E: -0.0\n",
      "p: 4000.0 psia\n"
     ]
    }
   ],
   "source": [
    "def calculate_p(E):\n",
    "    return 4000 + 44.125 * E\n",
    "\n",
    "\n",
    "\n",
    "while True:\n",
    "    try:\n",
    "        r = float(input(\"Enter the radius of the well: \"))\n",
    "        t = int(input(\"Enter time in hours: \"))\n",
    "        break\n",
    "    except ValueError:\n",
    "        print(\"Error: Please enter valid numeric values.\")\n",
    "\n",
    "        \n",
    "x = calculate_x(r, t, Φ, μ, ct, k)\n",
    "print(\"x:\", x)\n",
    "E = round(calculate_E(x, table),2)\n",
    "print(\"E:\", E)\n",
    "\n",
    "\n",
    "if E is not None:\n",
    "    p = round(calculate_p(E),0)\n",
    "    print(f\"p: {p} psia\")\n",
    "else:\n",
    "    print(\"Error: Could not calculate p due to missing E value.\")"
   ]
  },
  {
   "cell_type": "code",
   "execution_count": 33,
   "id": "dba3b782",
   "metadata": {},
   "outputs": [
    {
     "name": "stdout",
     "output_type": "stream",
     "text": [
      "Enter the radius of the well: 2000\n",
      "Enter time in hours: 24\n",
      "x: 7.109999999999999\n",
      "E: -0.0\n",
      "p: 4000.0 psia\n"
     ]
    }
   ],
   "source": [
    "def calculate_p(E):\n",
    "    return 4000 + 44.125 * E\n",
    "\n",
    "\n",
    "\n",
    "while True:\n",
    "    try:\n",
    "        r = float(input(\"Enter the radius of the well: \"))\n",
    "        t = int(input(\"Enter time in hours: \"))\n",
    "        break\n",
    "    except ValueError:\n",
    "        print(\"Error: Please enter valid numeric values.\")\n",
    "\n",
    "        \n",
    "x = calculate_x(r, t, Φ, μ, ct, k)\n",
    "print(\"x:\", x)\n",
    "E = round(calculate_E(x, table),2)\n",
    "print(\"E:\", E)\n",
    "\n",
    "\n",
    "if E is not None:\n",
    "    p = round(calculate_p(E),0)\n",
    "    print(f\"p: {p} psia\")\n",
    "else:\n",
    "    print(\"Error: Could not calculate p due to missing E value.\")"
   ]
  },
  {
   "cell_type": "code",
   "execution_count": 34,
   "id": "6e3e63d2",
   "metadata": {},
   "outputs": [
    {
     "name": "stdout",
     "output_type": "stream",
     "text": [
      "Enter the radius of the well: 2500\n",
      "Enter time in hours: 24\n",
      "x: 11.109375\n",
      "E: 0\n",
      "p: 4000.0 psia\n"
     ]
    }
   ],
   "source": [
    "def calculate_p(E):\n",
    "    return 4000 + 44.125 * E\n",
    "\n",
    "\n",
    "\n",
    "while True:\n",
    "    try:\n",
    "        r = float(input(\"Enter the radius of the well: \"))\n",
    "        t = int(input(\"Enter time in hours: \"))\n",
    "        break\n",
    "    except ValueError:\n",
    "        print(\"Error: Please enter valid numeric values.\")\n",
    "\n",
    "        \n",
    "x = calculate_x(r, t, Φ, μ, ct, k)\n",
    "print(\"x:\", x)\n",
    "E = round(calculate_E(x, table),2)\n",
    "print(\"E:\", E)\n",
    "\n",
    "\n",
    "if E is not None:\n",
    "    p = round(calculate_p(E),0)\n",
    "    print(f\"p: {p} psia\")\n",
    "else:\n",
    "    print(\"Error: Could not calculate p due to missing E value.\")"
   ]
  },
  {
   "cell_type": "code",
   "execution_count": null,
   "id": "37648ee0",
   "metadata": {},
   "outputs": [],
   "source": [
    "def calculate_p(E):\n",
    "    return 4000 + 44.125 * E\n",
    "\n",
    "\n",
    "\n",
    "while True:\n",
    "    try:\n",
    "        r = float(input(\"Enter the radius of the well: \"))\n",
    "        t = int(input(\"Enter time in hours: \"))\n",
    "        break\n",
    "    except ValueError:\n",
    "        print(\"Error: Please enter valid numeric values.\")\n",
    "\n",
    "        \n",
    "x = calculate_x(r, t, Φ, μ, ct, k)\n",
    "print(\"x:\", x)\n",
    "E = round(calculate_E(x, table),2)\n",
    "print(\"E:\", E)\n",
    "\n",
    "\n",
    "if E is not None:\n",
    "    p = round(calculate_p(E),0)\n",
    "    print(f\"p: {p} psia\")\n",
    "else:\n",
    "    print(\"Error: Could not calculate p due to missing E value.\")"
   ]
  },
  {
   "cell_type": "code",
   "execution_count": null,
   "id": "44e5f3ba",
   "metadata": {},
   "outputs": [],
   "source": [
    "def calculate_p(E):\n",
    "    return 4000 + 44.125 * E\n",
    "\n",
    "\n",
    "\n",
    "while True:\n",
    "    try:\n",
    "        r = float(input(\"Enter the radius of the well: \"))\n",
    "        t = int(input(\"Enter time in hours: \"))\n",
    "        break\n",
    "    except ValueError:\n",
    "        print(\"Error: Please enter valid numeric values.\")\n",
    "\n",
    "        \n",
    "x = calculate_x(r, t, Φ, μ, ct, k)\n",
    "print(\"x:\", x)\n",
    "E = round(calculate_E(x, table),2)\n",
    "print(\"E:\", E)\n",
    "\n",
    "\n",
    "if E is not None:\n",
    "    p = round(calculate_p(E),0)\n",
    "    print(f\"p: {p} psia\")\n",
    "else:\n",
    "    print(\"Error: Could not calculate p due to missing E value.\")"
   ]
  },
  {
   "cell_type": "code",
   "execution_count": null,
   "id": "8aa11bf8",
   "metadata": {},
   "outputs": [],
   "source": []
  }
 ],
 "metadata": {
  "kernelspec": {
   "display_name": "Python 3 (ipykernel)",
   "language": "python",
   "name": "python3"
  },
  "language_info": {
   "codemirror_mode": {
    "name": "ipython",
    "version": 3
   },
   "file_extension": ".py",
   "mimetype": "text/x-python",
   "name": "python",
   "nbconvert_exporter": "python",
   "pygments_lexer": "ipython3",
   "version": "3.9.13"
  }
 },
 "nbformat": 4,
 "nbformat_minor": 5
}
